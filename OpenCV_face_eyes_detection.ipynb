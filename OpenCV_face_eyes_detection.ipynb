{
 "cells": [
  {
   "cell_type": "code",
   "execution_count": 1,
   "metadata": {},
   "outputs": [],
   "source": [
    "import cv2"
   ]
  },
  {
   "cell_type": "code",
   "execution_count": 2,
   "metadata": {},
   "outputs": [],
   "source": [
    "cap=cv2.VideoCapture(0)\n",
    "face_cascade=cv2.CascadeClassifier('face.xml')\n",
    "face_cascade2=cv2.CascadeClassifier('eyedet.xml')\n",
    "\n",
    "while(cap.isOpened()):\n",
    "    \n",
    "    \n",
    "    ret,frame1=cap.read()\n",
    "\n",
    "    gray=cv2.cvtColor(frame1,cv2.COLOR_BGR2GRAY)\n",
    "\n",
    "    faces=face_cascade.detectMultiScale(gray,scaleFactor=1.05,minNeighbors=3)\n",
    "    \n",
    "    faces2=face_cascade2.detectMultiScale(gray,scaleFactor=1.05,minNeighbors=3)\n",
    "\n",
    "\n",
    "    \n",
    "    for (x, y, w, h) in faces:\n",
    "        cv2.rectangle(frame1, (x, y), (x+w, y+h), (0, 255, 0), 3)\n",
    "#         font=cv2.FONT_HERSHEY_COMPLEX_SMALL\n",
    "#         cv2.putText(frame1,'face',(x-w,y-h),font,0.5,(0,255,0),2,cv2.LINE_AA)\n",
    "        for (a, b, c, d) in faces2:\n",
    "            \n",
    "            cv2.rectangle(frame1, (a, b), (a+c, b+d), (0, 0, 255), 4)\n",
    "          \n",
    "        cv2.imshow('feed',frame1)\n",
    "    \n",
    "\n",
    "    \n",
    "    if cv2.waitKey(25) & 0xFF == ord('q'):\n",
    "            break\n",
    "cv2.destroyAllWindows()\n",
    "cap.release()\n",
    "\n",
    "    "
   ]
  }
 ],
 "metadata": {
  "kernelspec": {
   "display_name": "Python 3",
   "language": "python",
   "name": "python3"
  },
  "language_info": {
   "codemirror_mode": {
    "name": "ipython",
    "version": 3
   },
   "file_extension": ".py",
   "mimetype": "text/x-python",
   "name": "python",
   "nbconvert_exporter": "python",
   "pygments_lexer": "ipython3",
   "version": "3.7.3"
  }
 },
 "nbformat": 4,
 "nbformat_minor": 2
}
